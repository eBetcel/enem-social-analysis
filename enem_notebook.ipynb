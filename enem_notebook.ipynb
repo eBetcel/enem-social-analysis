{
 "cells": [
  {
   "cell_type": "markdown",
   "metadata": {},
   "source": [
    "# ENEM - Success or Unsuccess\n",
    "### An Classification problem\n",
    "\n",
    "Starting slowly, we intend to define whether a participant would be successful or not on ENEM tests based on their socioeconomical status, so, we chose to use the learning model `LinearSVG`, a Linear Support Vector Classification to predict this."
   ]
  },
  {
   "cell_type": "code",
   "execution_count": 1,
   "metadata": {
    "id": "VKs_qGdJkQeR"
   },
   "outputs": [],
   "source": [
    "#Import libraries\n",
    "import pandas as pd\n",
    "import matplotlib.pyplot as plt\n",
    "import numpy as np\n",
    "import seaborn as sns\n",
    "from sklearn.model_selection import train_test_split\n",
    "from sklearn.svm import LinearSVC\n",
    "from sklearn.metrics import accuracy_score\n",
    "from sklearn.preprocessing import StandardScaler\n",
    "from sklearn.pipeline import make_pipeline"
   ]
  },
  {
   "cell_type": "code",
   "execution_count": 2,
   "metadata": {
    "id": "peHkdLnqkQee"
   },
   "outputs": [],
   "source": [
    "#Import Filtered Dataset containing the selected features\n",
    "dataEnem = pd.read_csv (\"DataEnemQuestionsParsed.csv\", encoding='ISO-8859-1')"
   ]
  },
  {
   "cell_type": "code",
   "execution_count": 3,
   "metadata": {
    "colab": {
     "base_uri": "https://localhost:8080/",
     "height": 241
    },
    "executionInfo": {
     "elapsed": 1591,
     "status": "ok",
     "timestamp": 1601915294931,
     "user": {
      "displayName": "OZIEL JUNIOR",
      "photoUrl": "https://lh3.googleusercontent.com/a-/AOh14Ggz0UUkl87dG84DhMt9Y5LE_VTSr34DlL8zLb9G=s64",
      "userId": "07062214448555350795"
     },
     "user_tz": 180
    },
    "id": "dxk6abvTkQem",
    "outputId": "51273fec-b42e-48cb-9281-81a376ead7a1"
   },
   "outputs": [
    {
     "data": {
      "text/html": [
       "<div>\n",
       "<style scoped>\n",
       "    .dataframe tbody tr th:only-of-type {\n",
       "        vertical-align: middle;\n",
       "    }\n",
       "\n",
       "    .dataframe tbody tr th {\n",
       "        vertical-align: top;\n",
       "    }\n",
       "\n",
       "    .dataframe thead th {\n",
       "        text-align: right;\n",
       "    }\n",
       "</style>\n",
       "<table border=\"1\" class=\"dataframe\">\n",
       "  <thead>\n",
       "    <tr style=\"text-align: right;\">\n",
       "      <th></th>\n",
       "      <th>Unnamed: 0</th>\n",
       "      <th>Unnamed: 0.1</th>\n",
       "      <th>NU_INSCRICAO</th>\n",
       "      <th>TP_NACIONALIDADE</th>\n",
       "      <th>TP_ST_CONCLUSAO</th>\n",
       "      <th>TP_ESCOLA</th>\n",
       "      <th>TP_ENSINO</th>\n",
       "      <th>SG_UF_ESC</th>\n",
       "      <th>TP_DEPENDENCIA_ADM_ESC</th>\n",
       "      <th>TP_LOCALIZACAO_ESC</th>\n",
       "      <th>...</th>\n",
       "      <th>Q016</th>\n",
       "      <th>Q017</th>\n",
       "      <th>Q018</th>\n",
       "      <th>Q019</th>\n",
       "      <th>Q020</th>\n",
       "      <th>Q021</th>\n",
       "      <th>Q022</th>\n",
       "      <th>Q023</th>\n",
       "      <th>Q024</th>\n",
       "      <th>Q025</th>\n",
       "    </tr>\n",
       "  </thead>\n",
       "  <tbody>\n",
       "    <tr>\n",
       "      <th>0</th>\n",
       "      <td>0</td>\n",
       "      <td>2</td>\n",
       "      <td>190001004629</td>\n",
       "      <td>1</td>\n",
       "      <td>2</td>\n",
       "      <td>3</td>\n",
       "      <td>1.0</td>\n",
       "      <td>PA</td>\n",
       "      <td>4.0</td>\n",
       "      <td>1.0</td>\n",
       "      <td>...</td>\n",
       "      <td>2</td>\n",
       "      <td>1</td>\n",
       "      <td>1</td>\n",
       "      <td>4</td>\n",
       "      <td>2</td>\n",
       "      <td>2</td>\n",
       "      <td>4</td>\n",
       "      <td>1</td>\n",
       "      <td>3</td>\n",
       "      <td>2</td>\n",
       "    </tr>\n",
       "    <tr>\n",
       "      <th>1</th>\n",
       "      <td>1</td>\n",
       "      <td>7</td>\n",
       "      <td>190001004634</td>\n",
       "      <td>1</td>\n",
       "      <td>2</td>\n",
       "      <td>2</td>\n",
       "      <td>1.0</td>\n",
       "      <td>PA</td>\n",
       "      <td>2.0</td>\n",
       "      <td>1.0</td>\n",
       "      <td>...</td>\n",
       "      <td>1</td>\n",
       "      <td>1</td>\n",
       "      <td>1</td>\n",
       "      <td>2</td>\n",
       "      <td>1</td>\n",
       "      <td>1</td>\n",
       "      <td>2</td>\n",
       "      <td>1</td>\n",
       "      <td>1</td>\n",
       "      <td>1</td>\n",
       "    </tr>\n",
       "    <tr>\n",
       "      <th>2</th>\n",
       "      <td>2</td>\n",
       "      <td>15</td>\n",
       "      <td>190001004642</td>\n",
       "      <td>1</td>\n",
       "      <td>2</td>\n",
       "      <td>2</td>\n",
       "      <td>NaN</td>\n",
       "      <td>PA</td>\n",
       "      <td>2.0</td>\n",
       "      <td>1.0</td>\n",
       "      <td>...</td>\n",
       "      <td>1</td>\n",
       "      <td>1</td>\n",
       "      <td>1</td>\n",
       "      <td>2</td>\n",
       "      <td>2</td>\n",
       "      <td>1</td>\n",
       "      <td>4</td>\n",
       "      <td>1</td>\n",
       "      <td>1</td>\n",
       "      <td>1</td>\n",
       "    </tr>\n",
       "    <tr>\n",
       "      <th>3</th>\n",
       "      <td>3</td>\n",
       "      <td>16</td>\n",
       "      <td>190001004643</td>\n",
       "      <td>1</td>\n",
       "      <td>2</td>\n",
       "      <td>2</td>\n",
       "      <td>1.0</td>\n",
       "      <td>PA</td>\n",
       "      <td>2.0</td>\n",
       "      <td>1.0</td>\n",
       "      <td>...</td>\n",
       "      <td>1</td>\n",
       "      <td>1</td>\n",
       "      <td>1</td>\n",
       "      <td>4</td>\n",
       "      <td>1</td>\n",
       "      <td>1</td>\n",
       "      <td>3</td>\n",
       "      <td>1</td>\n",
       "      <td>1</td>\n",
       "      <td>1</td>\n",
       "    </tr>\n",
       "    <tr>\n",
       "      <th>4</th>\n",
       "      <td>4</td>\n",
       "      <td>24</td>\n",
       "      <td>190001004651</td>\n",
       "      <td>1</td>\n",
       "      <td>2</td>\n",
       "      <td>2</td>\n",
       "      <td>1.0</td>\n",
       "      <td>PA</td>\n",
       "      <td>2.0</td>\n",
       "      <td>1.0</td>\n",
       "      <td>...</td>\n",
       "      <td>2</td>\n",
       "      <td>1</td>\n",
       "      <td>1</td>\n",
       "      <td>2</td>\n",
       "      <td>1</td>\n",
       "      <td>1</td>\n",
       "      <td>4</td>\n",
       "      <td>1</td>\n",
       "      <td>1</td>\n",
       "      <td>2</td>\n",
       "    </tr>\n",
       "  </tbody>\n",
       "</table>\n",
       "<p>5 rows × 45 columns</p>\n",
       "</div>"
      ],
      "text/plain": [
       "   Unnamed: 0  Unnamed: 0.1  NU_INSCRICAO  TP_NACIONALIDADE  TP_ST_CONCLUSAO  \\\n",
       "0           0             2  190001004629                 1                2   \n",
       "1           1             7  190001004634                 1                2   \n",
       "2           2            15  190001004642                 1                2   \n",
       "3           3            16  190001004643                 1                2   \n",
       "4           4            24  190001004651                 1                2   \n",
       "\n",
       "   TP_ESCOLA  TP_ENSINO SG_UF_ESC  TP_DEPENDENCIA_ADM_ESC  TP_LOCALIZACAO_ESC  \\\n",
       "0          3        1.0        PA                     4.0                 1.0   \n",
       "1          2        1.0        PA                     2.0                 1.0   \n",
       "2          2        NaN        PA                     2.0                 1.0   \n",
       "3          2        1.0        PA                     2.0                 1.0   \n",
       "4          2        1.0        PA                     2.0                 1.0   \n",
       "\n",
       "   ...  Q016  Q017  Q018  Q019  Q020  Q021  Q022  Q023  Q024  Q025  \n",
       "0  ...     2     1     1     4     2     2     4     1     3     2  \n",
       "1  ...     1     1     1     2     1     1     2     1     1     1  \n",
       "2  ...     1     1     1     2     2     1     4     1     1     1  \n",
       "3  ...     1     1     1     4     1     1     3     1     1     1  \n",
       "4  ...     2     1     1     2     1     1     4     1     1     2  \n",
       "\n",
       "[5 rows x 45 columns]"
      ]
     },
     "execution_count": 3,
     "metadata": {},
     "output_type": "execute_result"
    }
   ],
   "source": [
    "brDataEnem = dataEnem\n",
    "brDataEnem.head()"
   ]
  },
  {
   "cell_type": "markdown",
   "metadata": {},
   "source": [
    "## Mapping questions inputs\n",
    "We chose to map the inputs using the alphabetical order so that there is no hierarchical loss in the value of the results according to the data dictionary."
   ]
  },
  {
   "cell_type": "code",
   "execution_count": 4,
   "metadata": {
    "colab": {
     "base_uri": "https://localhost:8080/",
     "height": 102
    },
    "id": "M72gH8yZnl96",
    "outputId": "315bfdfc-8a63-4f89-a105-2a2bf32e6ea2"
   },
   "outputs": [],
   "source": [
    "#Parsing Questions to Numbers\n",
    "#Q005 already has numbers as input\n",
    "#questions = ['Q001', 'Q002', 'Q003', 'Q004', 'Q006', 'Q007', 'Q008', \n",
    "     #        'Q009', 'Q010', 'Q011', 'Q012', 'Q013', 'Q014','Q015', 'Q016', \n",
    "   #          'Q017', 'Q018', 'Q019', 'Q020', 'Q021', 'Q022','Q023', 'Q024', 'Q025']\n",
    "\n",
    "#for i in questions:\n",
    "#    brDataEnem[i] = [ ord(x) - 64 for x in brDataEnem[i] ]\n",
    "#brDataEnem.head()"
   ]
  },
  {
   "cell_type": "markdown",
   "metadata": {},
   "source": [
    "## Success and Unsuccess definition"
   ]
  },
  {
   "cell_type": "code",
   "execution_count": 5,
   "metadata": {
    "id": "_B4dQe9FkQfl"
   },
   "outputs": [],
   "source": [
    "#Finds the median for every test\n",
    "medianRe = brDataEnem['NU_NOTA_REDACAO'].median()\n",
    "medianCN = brDataEnem['NU_NOTA_CN'].median()\n",
    "medianCH = brDataEnem['NU_NOTA_CH'].median()\n",
    "medianLC = brDataEnem['NU_NOTA_LC'].median()\n",
    "medianMT = brDataEnem['NU_NOTA_MT'].median()\n",
    "   "
   ]
  },
  {
   "cell_type": "markdown",
   "metadata": {},
   "source": [
    "Creating an aditional boolean column for each test that defines it's success"
   ]
  },
  {
   "cell_type": "code",
   "execution_count": 6,
   "metadata": {
    "id": "Oa3D5xabkQft"
   },
   "outputs": [],
   "source": [
    "#Create a new column called brDataEnem.[TestName] where the value\n",
    "#is yes if the score is greater than the median and 0 otherwise.\n",
    "#1 = greater than median, 0 = lesser than median\n",
    "brDataEnem['Re'] = np.where(brDataEnem['NU_NOTA_REDACAO'] >= medianRe, 1, 0)\n",
    "brDataEnem['CN'] = np.where(brDataEnem['NU_NOTA_CN'] >= medianCN, 1, 0)\n",
    "brDataEnem['CH'] = np.where(brDataEnem['NU_NOTA_CH'] >= medianCH, 1, 0)\n",
    "brDataEnem['LC'] = np.where(brDataEnem['NU_NOTA_LC'] >= medianLC, 1, 0)\n",
    "brDataEnem['MT'] = np.where(brDataEnem['NU_NOTA_MT'] >= medianMT, 1, 0)\n",
    "\n",
    "#Create a series for baseline algorithm\n",
    "brDataEnem['BASELINE_TP_ESCOLA'] = np.where(brDataEnem['TP_ESCOLA'] == 2, 0, 1)\n"
   ]
  },
  {
   "cell_type": "markdown",
   "metadata": {},
   "source": [
    "# Math"
   ]
  },
  {
   "cell_type": "code",
   "execution_count": 7,
   "metadata": {
    "id": "QIYub5ZfkQf1"
   },
   "outputs": [],
   "source": [
    "#Getting features and labels that will be used in classification\n",
    "X = brDataEnem[['TP_ESCOLA','Q001', 'Q002', 'Q003', 'Q004', 'Q005', 'Q006',\n",
    "                'Q007', 'Q008', 'Q009', 'Q010', 'Q011', 'Q012', 'Q013', 'Q014',\n",
    "                'Q015', 'Q016', 'Q017', 'Q018', 'Q019', 'Q020', 'Q021', 'Q022',\n",
    "                'Q023', 'Q024', 'Q025', 'TP_DEPENDENCIA_ADM_ESC']]\n",
    "y = brDataEnem['MT']"
   ]
  },
  {
   "cell_type": "code",
   "execution_count": 8,
   "metadata": {
    "colab": {
     "base_uri": "https://localhost:8080/",
     "height": 34
    },
    "executionInfo": {
     "elapsed": 46971,
     "status": "ok",
     "timestamp": 1601915396051,
     "user": {
      "displayName": "OZIEL JUNIOR",
      "photoUrl": "https://lh3.googleusercontent.com/a-/AOh14Ggz0UUkl87dG84DhMt9Y5LE_VTSr34DlL8zLb9G=s64",
      "userId": "07062214448555350795"
     },
     "user_tz": 180
    },
    "id": "F3yB1jBEkQf8",
    "outputId": "5bf79483-7b85-4f62-ebf0-c916d862329d"
   },
   "outputs": [],
   "source": [
    "#Defining the training set \n",
    "SEED = 30\n",
    "treino_x, teste_x, treino_y, teste_y = train_test_split(X, y, random_state = SEED, test_size = 0.25)\n"
   ]
  },
  {
   "cell_type": "code",
   "execution_count": 9,
   "metadata": {},
   "outputs": [
    {
     "data": {
      "text/plain": [
       "0    345752\n",
       "1    345666\n",
       "Name: MT, dtype: int64"
      ]
     },
     "execution_count": 9,
     "metadata": {},
     "output_type": "execute_result"
    }
   ],
   "source": [
    "#Traning\n",
    "modelo = make_pipeline(StandardScaler(),LinearSVC(dual=False, max_iter=5000))\n",
    "modelo.fit(treino_x, treino_y)\n",
    "previsoes = modelo.predict(teste_x)\n",
    "acuracia = accuracy_score(teste_y, previsoes) * 100\n",
    "\n",
    "treino_y.value_counts()"
   ]
  },
  {
   "cell_type": "markdown",
   "metadata": {},
   "source": [
    "#### Comparting to baseline"
   ]
  },
  {
   "cell_type": "code",
   "execution_count": 10,
   "metadata": {},
   "outputs": [
    {
     "name": "stdout",
     "output_type": "stream",
     "text": [
      "Accuracy: 66.87%\n",
      "The baseline accuracy using the type of school was 49.95%\n",
      "The random baseline accuracy was 50.02%\n"
     ]
    }
   ],
   "source": [
    "def baseline_testing(teste_y):\n",
    "    #Baseline using the type of school\n",
    "    base_escola = brDataEnem['BASELINE_TP_ESCOLA'].to_numpy()\n",
    "    base_escola_teste = base_escola[:len(teste_y.index)]\n",
    "    acuracia_base = accuracy_score(teste_y, base_escola_teste) * 100\n",
    "    print(\"The baseline accuracy using the type of school was %.2f%%\" % acuracia_base)\n",
    "\n",
    "    #Baseline all ones\n",
    "    all_ones = np.ones((len(teste_y.index)))\n",
    "    acuracia_base = accuracy_score(teste_y, all_ones) * 100\n",
    "    print(\"The random baseline accuracy was %.2f%%\" % acuracia_base)\n",
    "\n",
    "print(\"Accuracy: %.2f%%\" % acuracia)\n",
    "baseline_testing(teste_y)"
   ]
  },
  {
   "cell_type": "markdown",
   "metadata": {},
   "source": [
    "#### Features Relevance"
   ]
  },
  {
   "cell_type": "code",
   "execution_count": 11,
   "metadata": {},
   "outputs": [
    {
     "name": "stdout",
     "output_type": "stream",
     "text": [
      "27\n",
      "['q001', 'q002', 'q003', 'q004', 'q005', 'q006', 'q007', 'q008', 'q009', 'q010', 'q011', 'q012', 'q013', 'q014', 'q015', 'q016', 'q017', 'q018', 'q019', 'q020', 'q021', 'q022', 'q023', 'q024', 'q025', 'tp_dependencia_adm_esc', 'tp_escola']\n"
     ]
    },
    {
     "data": {
      "image/png": "[encoded data removed]",
      "text/plain": [
       "<Figure size 1080x360 with 1 Axes>"
      ]
     },
     "metadata": {
      "needs_background": "light"
     },
     "output_type": "display_data"
    }
   ],
   "source": [
    "from sklearn.feature_extraction.text import CountVectorizer\n",
    "\n",
    "def plot_coefficients(classifier, feature_names, top_features=20):\n",
    " coef = classifier.coef_.ravel()\n",
    " top_positive_coefficients = np.argsort(coef)[-top_features:]\n",
    " top_negative_coefficients = np.argsort(coef)[:top_features]\n",
    " top_coefficients = np.hstack([top_negative_coefficients, top_positive_coefficients])\n",
    " \n",
    "# create plot\n",
    " plt.figure(figsize=(15, 5))\n",
    " colors = ['red' if c < 0 else 'blue' for c in coef[top_coefficients]]\n",
    " plt.bar(np.arange(2 * top_features), coef[top_coefficients], color=colors)\n",
    " feature_names = np.array(feature_names)\n",
    " plt.xticks(np.arange(1, 1 + 2 * top_features), feature_names[top_coefficients], rotation=60, ha='right')\n",
    " plt.show()\n",
    "\n",
    "cv = CountVectorizer()\n",
    "cv.fit(X)\n",
    "print(len(cv.vocabulary_))\n",
    "print(cv.get_feature_names())\n",
    "#X_train = cv.transform(data)\n",
    "\n",
    "svm = LinearSVC(dual=False, max_iter=5000)\n",
    "svm.fit(treino_x, treino_y)\n",
    "plot_coefficients(svm, cv.get_feature_names())"
   ]
  },
  {
   "cell_type": "markdown",
   "metadata": {},
   "source": [
    "# Languages"
   ]
  },
  {
   "cell_type": "code",
   "execution_count": 12,
   "metadata": {},
   "outputs": [
    {
     "data": {
      "text/plain": [
       "1    345888\n",
       "0    345530\n",
       "Name: LC, dtype: int64"
      ]
     },
     "execution_count": 12,
     "metadata": {},
     "output_type": "execute_result"
    }
   ],
   "source": [
    "y = brDataEnem['LC']\n",
    "\n",
    "#Defining the training set \n",
    "SEED = 30\n",
    "treino_x, teste_x, treino_y, teste_y = train_test_split(X, y, random_state = SEED, test_size = 0.25)\n",
    "\n",
    "#Traning\n",
    "modelo = make_pipeline(StandardScaler(),LinearSVC(dual=False, max_iter=5000))\n",
    "modelo.fit(treino_x, treino_y)\n",
    "previsoes = modelo.predict(teste_x)\n",
    "acuracia = accuracy_score(teste_y, previsoes) * 100\n",
    "treino_y.value_counts()"
   ]
  },
  {
   "cell_type": "markdown",
   "metadata": {},
   "source": [
    "#### Comparing to baseline"
   ]
  },
  {
   "cell_type": "code",
   "execution_count": 13,
   "metadata": {},
   "outputs": [
    {
     "name": "stdout",
     "output_type": "stream",
     "text": [
      "Accuracy: 68.38%\n",
      "The baseline accuracy using the type of school was 49.93%\n",
      "The random baseline accuracy was 50.02%\n"
     ]
    }
   ],
   "source": [
    "print(\"Accuracy: %.2f%%\" % acuracia)\n",
    "baseline_testing(teste_y)"
   ]
  },
  {
   "cell_type": "markdown",
   "metadata": {},
   "source": [
    "# Natural Sciences\n"
   ]
  },
  {
   "cell_type": "code",
   "execution_count": 14,
   "metadata": {},
   "outputs": [
    {
     "data": {
      "text/plain": [
       "0    345826\n",
       "1    345592\n",
       "Name: CN, dtype: int64"
      ]
     },
     "execution_count": 14,
     "metadata": {},
     "output_type": "execute_result"
    }
   ],
   "source": [
    "y = brDataEnem['CN']\n",
    "\n",
    "#Defining the training set \n",
    "SEED = 30\n",
    "treino_x, teste_x, treino_y, teste_y = train_test_split(X, y, random_state = SEED, test_size = 0.25)\n",
    "\n",
    "#Traning\n",
    "modelo = make_pipeline(StandardScaler(),LinearSVC(dual=False, max_iter=5000))\n",
    "modelo.fit(treino_x, treino_y)\n",
    "previsoes = modelo.predict(teste_x)\n",
    "acuracia = accuracy_score(teste_y, previsoes) * 100\n",
    "treino_y.value_counts()\n",
    "\n",
    "\n"
   ]
  },
  {
   "cell_type": "markdown",
   "metadata": {},
   "source": [
    "#### Comparing to baseline"
   ]
  },
  {
   "cell_type": "code",
   "execution_count": 15,
   "metadata": {},
   "outputs": [
    {
     "name": "stdout",
     "output_type": "stream",
     "text": [
      "Accuracy: 66.53%\n",
      "The baseline accuracy using the type of school was 49.82%\n",
      "The random baseline accuracy was 50.16%\n"
     ]
    }
   ],
   "source": [
    "print(\"Accuracy: %.2f%%\" % acuracia)\n",
    "baseline_testing(teste_y)"
   ]
  },
  {
   "cell_type": "markdown",
   "metadata": {},
   "source": [
    "# Human Sciences"
   ]
  },
  {
   "cell_type": "code",
   "execution_count": 16,
   "metadata": {},
   "outputs": [
    {
     "data": {
      "text/plain": [
       "1    346008\n",
       "0    345410\n",
       "Name: CH, dtype: int64"
      ]
     },
     "execution_count": 16,
     "metadata": {},
     "output_type": "execute_result"
    }
   ],
   "source": [
    "y = brDataEnem['CH']\n",
    "\n",
    "#Defining the training set \n",
    "SEED = 30\n",
    "treino_x, teste_x, treino_y, teste_y = train_test_split(X, y, random_state = SEED, test_size = 0.25)\n",
    "\n",
    "#Traning\n",
    "modelo = make_pipeline(StandardScaler(),LinearSVC(dual=False, max_iter=5000))\n",
    "modelo.fit(treino_x, treino_y)\n",
    "previsoes = modelo.predict(teste_x)\n",
    "acuracia = accuracy_score(teste_y, previsoes) * 100\n",
    "treino_y.value_counts()\n",
    "\n"
   ]
  },
  {
   "cell_type": "markdown",
   "metadata": {},
   "source": [
    "#### Comparing to baseline"
   ]
  },
  {
   "cell_type": "code",
   "execution_count": 17,
   "metadata": {},
   "outputs": [
    {
     "name": "stdout",
     "output_type": "stream",
     "text": [
      "Accuracy: 67.06%\n",
      "The baseline accuracy using the type of school was 49.83%\n",
      "The random baseline accuracy was 50.01%\n"
     ]
    }
   ],
   "source": [
    "print(\"Accuracy: %.2f%%\" % acuracia)\n",
    "baseline_testing(teste_y)"
   ]
  },
  {
   "cell_type": "markdown",
   "metadata": {},
   "source": [
    "# Writing"
   ]
  },
  {
   "cell_type": "code",
   "execution_count": 18,
   "metadata": {},
   "outputs": [
    {
     "data": {
      "text/plain": [
       "1    350308\n",
       "0    341110\n",
       "Name: Re, dtype: int64"
      ]
     },
     "execution_count": 18,
     "metadata": {},
     "output_type": "execute_result"
    }
   ],
   "source": [
    "y = brDataEnem['Re']\n",
    "\n",
    "#Defining the training set \n",
    "SEED = 30\n",
    "treino_x, teste_x, treino_y, teste_y = train_test_split(X, y, random_state = SEED, test_size = 0.25)\n",
    "\n",
    "#Traning\n",
    "modelo = make_pipeline(StandardScaler(),LinearSVC(dual=False, max_iter=5000))\n",
    "modelo.fit(treino_x, treino_y)\n",
    "previsoes = modelo.predict(teste_x)\n",
    "acuracia = accuracy_score(teste_y, previsoes) * 100\n",
    "treino_y.value_counts()\n"
   ]
  },
  {
   "cell_type": "markdown",
   "metadata": {},
   "source": [
    "#### Comparing to baseline"
   ]
  },
  {
   "cell_type": "code",
   "execution_count": 19,
   "metadata": {},
   "outputs": [
    {
     "name": "stdout",
     "output_type": "stream",
     "text": [
      "Accuracy: 63.84%\n",
      "The baseline accuracy using the type of school was 49.42%\n",
      "The random baseline accuracy was 50.66%\n"
     ]
    }
   ],
   "source": [
    "print(\"Accuracy: %.2f%%\" % acuracia)\n",
    "baseline_testing(teste_y)"
   ]
  }
 ],
 "metadata": {
  "colab": {
   "collapsed_sections": [],
   "name": "Cópia de enemnotebook.ipynb",
   "provenance": [
    {
     "file_id": "1-968hmwfbH4B7qeB33JIGNmyzNSiFq4F",
     "timestamp": 1601917218967
    }
   ]
  },
  "kernelspec": {
   "display_name": "Python 3",
   "language": "python",
   "name": "python3"
  },
  "language_info": {
   "codemirror_mode": {
    "name": "ipython",
    "version": 3
   },
   "file_extension": ".py",
   "mimetype": "text/x-python",
   "name": "python",
   "nbconvert_exporter": "python",
   "pygments_lexer": "ipython3",
   "version": "3.8.5"
  }
 },
 "nbformat": 4,
 "nbformat_minor": 4
}
